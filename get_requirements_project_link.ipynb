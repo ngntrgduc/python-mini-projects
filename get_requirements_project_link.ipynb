{
  "nbformat": 4,
  "nbformat_minor": 0,
  "metadata": {
    "colab": {
      "provenance": [],
      "authorship_tag": "ABX9TyNtfHc76PXlBCEgx5bj792V",
      "include_colab_link": true
    },
    "kernelspec": {
      "name": "python3",
      "display_name": "Python 3"
    },
    "language_info": {
      "name": "python"
    }
  },
  "cells": [
    {
      "cell_type": "markdown",
      "metadata": {
        "id": "view-in-github",
        "colab_type": "text"
      },
      "source": [
        "<a href=\"https://colab.research.google.com/github/ngntrgduc/python-mini-projects/blob/master/get_requirements_project_link.ipynb\" target=\"_parent\"><img src=\"https://colab.research.google.com/assets/colab-badge.svg\" alt=\"Open In Colab\"/></a>"
      ]
    },
    {
      "cell_type": "markdown",
      "source": [
        "Get all the requirements link in Python project"
      ],
      "metadata": {
        "id": "0eq85bXC-1l8"
      }
    },
    {
      "cell_type": "code",
      "execution_count": null,
      "metadata": {
        "id": "Ufr8XX517JHa"
      },
      "outputs": [],
      "source": [
        "import requests\n",
        "import re"
      ]
    },
    {
      "cell_type": "code",
      "source": [
        "requirements = '''click==8.1.3\n",
        "DateTime==4.4\n",
        "discord.py==1.7.3\n",
        "jishaku==2.5.0\n",
        "multidict==6.0.2\n",
        "PyNaCl==1.4.0\n",
        "python-dateutil==2.8.2\n",
        "python-dotenv==0.20.0\n",
        "youtube-dl==2021.12.17'''.split('\\n')"
      ],
      "metadata": {
        "id": "KLaW5cjJ7RNv"
      },
      "execution_count": null,
      "outputs": []
    },
    {
      "cell_type": "code",
      "source": [
        "for requirement in requirements:\n",
        "    requirement = re.sub('==.*', '', requirement)\n",
        "    link = 'https://pypi.org/project/' + requirement\n",
        "    print(f'- {requirement} : {link}')"
      ],
      "metadata": {
        "colab": {
          "base_uri": "https://localhost:8080/"
        },
        "id": "QSs0sJQc9757",
        "outputId": "77bac35a-2909-408b-c30f-037f124b08b8"
      },
      "execution_count": null,
      "outputs": [
        {
          "output_type": "stream",
          "name": "stdout",
          "text": [
            "- click : https://pypi.org/project/click\n",
            "- DateTime : https://pypi.org/project/DateTime\n",
            "- discord.py : https://pypi.org/project/discord.py\n",
            "- jishaku : https://pypi.org/project/jishaku\n",
            "- multidict : https://pypi.org/project/multidict\n",
            "- PyNaCl : https://pypi.org/project/PyNaCl\n",
            "- python-dateutil : https://pypi.org/project/python-dateutil\n",
            "- python-dotenv : https://pypi.org/project/python-dotenv\n",
            "- youtube-dl : https://pypi.org/project/youtube-dl\n"
          ]
        }
      ]
    }
  ]
}