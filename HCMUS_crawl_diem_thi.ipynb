{
  "nbformat": 4,
  "nbformat_minor": 0,
  "metadata": {
    "colab": {
      "provenance": [],
      "authorship_tag": "ABX9TyN5EF1WCjQlUmyRHG0NjTKu",
      "include_colab_link": true
    },
    "kernelspec": {
      "name": "python3",
      "display_name": "Python 3"
    },
    "language_info": {
      "name": "python"
    }
  },
  "cells": [
    {
      "cell_type": "markdown",
      "metadata": {
        "id": "view-in-github",
        "colab_type": "text"
      },
      "source": [
        "<a href=\"https://colab.research.google.com/github/ngntrgduc/python-mini-projects/blob/master/HCMUS_crawl_diem_thi.ipynb\" target=\"_parent\"><img src=\"https://colab.research.google.com/assets/colab-badge.svg\" alt=\"Open In Colab\"/></a>"
      ]
    },
    {
      "cell_type": "code",
      "source": [
        "from bs4 import BeautifulSoup as bs\n",
        "import requests"
      ],
      "metadata": {
        "id": "qiM4OLglFgyo"
      },
      "execution_count": 1,
      "outputs": []
    },
    {
      "cell_type": "code",
      "source": [
        "url = 'http://ktdbcl.hcmus.edu.vn/index.php/cong-tac-kh-o-thi/k-t-qu-thi-h-c-ky/629-k-t-qu-thi-gi-a-ky-hk1-22-23-dhcq'\n",
        "links_pdf = bs(requests.get(url).content, 'lxml').find_all(attrs={\"class\": \"at_icon\"})"
      ],
      "metadata": {
        "id": "YZtDbUiNe2wR"
      },
      "execution_count": 2,
      "outputs": []
    },
    {
      "cell_type": "code",
      "source": [
        "def crawl(url):\n",
        "    page_diem = requests.get(url).content\n",
        "    links_pdf = bs(page_diem, 'lxml').find_all(attrs={\"class\": \"at_icon\"})\n",
        "    for link in links_pdf:\n",
        "        print(link.attrs['href'])"
      ],
      "metadata": {
        "id": "u_oP5BnlN9MF"
      },
      "execution_count": 3,
      "outputs": []
    },
    {
      "cell_type": "code",
      "source": [
        "def download_pdf(links_pdf):\n",
        "    for i, link in enumerate(links_pdf):\n",
        "        with open(f'{i+1}.pdf', 'wb') as f:\n",
        "            f.write(requests.get(link.attrs['href']).content)"
      ],
      "metadata": {
        "id": "4sjAkR4LbYRN"
      },
      "execution_count": 4,
      "outputs": []
    },
    {
      "cell_type": "code",
      "source": [
        "crawl(url)"
      ],
      "metadata": {
        "colab": {
          "base_uri": "https://localhost:8080/"
        },
        "id": "uHg51OnA-wjd",
        "outputId": "48f3c526-07c5-455f-ab40-8846ed878155"
      },
      "execution_count": 5,
      "outputs": [
        {
          "output_type": "stream",
          "name": "stdout",
          "text": [
            "http://ktdbcl.hcmus.edu.vn/attachments/article/629/GiuaKy_HK1_2223_DHCQ_0012.pdf\n",
            "http://ktdbcl.hcmus.edu.vn/attachments/article/629/GiuaKy_HK1_2223_DHCQ_0011.pdf\n",
            "http://ktdbcl.hcmus.edu.vn/attachments/article/629/GiuaKy_HK1_2223_DHCQ_0010.pdf\n",
            "http://ktdbcl.hcmus.edu.vn/attachments/article/629/GiuaKy_HK1_2223_DHCQ_0009.pdf\n",
            "http://ktdbcl.hcmus.edu.vn/attachments/article/629/GiuaKy_HK1_2223_DHCQ_0008.pdf\n",
            "http://ktdbcl.hcmus.edu.vn/attachments/article/629/GiuaKy_HK1_2223_DHCQ_0007.pdf\n",
            "http://ktdbcl.hcmus.edu.vn/attachments/article/629/GiuaKy_HK1_2223_DHCQ_0006.pdf\n",
            "http://ktdbcl.hcmus.edu.vn/attachments/article/629/GiuaKy_HK1_2223_DHCQ_0005.pdf\n",
            "http://ktdbcl.hcmus.edu.vn/attachments/article/629/GiuaKy_HK1_2223_DHCQ_0004.pdf\n",
            "http://ktdbcl.hcmus.edu.vn/attachments/article/629/GiuaKy_HK1_2223_DHCQ_0003.pdf\n",
            "http://ktdbcl.hcmus.edu.vn/attachments/article/629/GiuaKy_HK1_2223_DHCQ_0002.pdf\n",
            "http://ktdbcl.hcmus.edu.vn/attachments/article/629/GiuaKy_HK1_2223_DHCQ_0001.pdf\n"
          ]
        }
      ]
    },
    {
      "cell_type": "code",
      "source": [
        "# download_pdf(links_pdf)"
      ],
      "metadata": {
        "id": "J7LX-WJn-8QC"
      },
      "execution_count": 6,
      "outputs": []
    }
  ]
}