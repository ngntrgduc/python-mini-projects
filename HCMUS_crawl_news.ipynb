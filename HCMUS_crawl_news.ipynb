{
  "nbformat": 4,
  "nbformat_minor": 0,
  "metadata": {
    "colab": {
      "provenance": [],
      "authorship_tag": "ABX9TyOljZNb4D1h4z8Gs/8QXz2T",
      "include_colab_link": true
    },
    "kernelspec": {
      "name": "python3",
      "display_name": "Python 3"
    },
    "language_info": {
      "name": "python"
    }
  },
  "cells": [
    {
      "cell_type": "markdown",
      "metadata": {
        "id": "view-in-github",
        "colab_type": "text"
      },
      "source": [
        "<a href=\"https://colab.research.google.com/github/ngntrgduc/python-mini-projects/blob/master/HCMUS_crawl_news.ipynb\" target=\"_parent\"><img src=\"https://colab.research.google.com/assets/colab-badge.svg\" alt=\"Open In Colab\"/></a>"
      ]
    },
    {
      "cell_type": "code",
      "execution_count": 6,
      "metadata": {
        "id": "kzUUI_pFalJw"
      },
      "outputs": [],
      "source": [
        "from bs4 import BeautifulSoup as bs\n",
        "import requests\n",
        "import re\n",
        "import datetime"
      ]
    },
    {
      "cell_type": "code",
      "source": [
        "page = requests.get(\"https://www.hcmus.edu.vn/sinh-vien\")\n",
        "soup = bs(page.content, 'lxml')"
      ],
      "metadata": {
        "id": "CXStBvtnam2C"
      },
      "execution_count": 7,
      "outputs": []
    },
    {
      "cell_type": "code",
      "source": [
        "news = [i.text for i in soup.find_all(class_='mod-articles-category-title')]\n",
        "news_link = [i.attrs['href'] for i in soup.find_all(class_='mod-articles-category-title')]\n",
        "links = [''.join(url) for url in news_link]\n",
        "\n",
        "raw_dates = [i.text for i in soup.find_all(class_='mod-articles-category-date')]\n",
        "dates = [''.join(re.findall('([\\d-])', date)) for date in raw_dates]"
      ],
      "metadata": {
        "id": "KXVnzriubP4H"
      },
      "execution_count": 8,
      "outputs": []
    },
    {
      "cell_type": "code",
      "source": [
        "today = datetime.date.today().strftime(\"%d-%m-%Y\")\n",
        "for i in range(len(dates)):\n",
        "    if dates[i] == today:\n",
        "        print(f'Tin tức mới ngày {today}:', news[i], '\\nLink: ', 'https://www.hcmus.edu.vn' + links[i])"
      ],
      "metadata": {
        "id": "KFmg9a75lLp7"
      },
      "execution_count": 11,
      "outputs": []
    },
    {
      "cell_type": "code",
      "source": [
        "ctkt = [i for i in soup.find_all(class_='feed-link')]\n",
        "thong_bao_ctkt = [''.join(re.sub(r'(\\t|\\n)', '', news.text)) for news in ctkt]\n",
        "ctkt_link = [''.join(re.findall('http.*\" ', str(news))) for news in ctkt]\n",
        "ctkt_link = [link[:-2] for link in ctkt_link] # remove unnecessary characters\n",
        "print('-----THÔNG BÁO CÔNG TÁC KHẢO THÍ-----')\n",
        "for i in range(len(thong_bao_ctkt)):\n",
        "    print('-', thong_bao_ctkt[i], ', Link: ' + ctkt_link[i])"
      ],
      "metadata": {
        "colab": {
          "base_uri": "https://localhost:8080/"
        },
        "id": "ggLVCoXE-8a-",
        "outputId": "8a102214-5d70-4d3c-ed99-6c078b47680b"
      },
      "execution_count": 15,
      "outputs": [
        {
          "output_type": "stream",
          "name": "stdout",
          "text": [
            "-----THÔNG BÁO CÔNG TÁC KHẢO THÍ-----\n",
            "- Thông báo nhận đơn phúc khảo HK2/21-22 bậc Đại học hệ chính quy-Bổ sung , Link: http://ktdbcl.hcmus.edu.vn/index.php/thong-bao/584-thong-bao-nh-n-don-phuc-kh-o-hk2-21-22-b-c-d-i-h-c-h-chinh-quy-b-sung\n",
            "- Thông báo thay đổi phòng thi cuối HK2/21-22 hệ HCĐH lớp 21B , Link: http://ktdbcl.hcmus.edu.vn/index.php/thong-bao/583-thong-bao-thay-d-i-phong-thi-cu-i-hk2-21-22-h-hcdh-l-p-21b\n",
            "- Thông báo thay đổi phòng thi cuối HK3/21-22 cơ sở NVC vào ngày 23 và 25 tháng 8 , Link: http://ktdbcl.hcmus.edu.vn/index.php/thong-bao/581-thong-bao-thay-d-i-phong-thi-cu-i-hk3-21-22-co-s-nvc-vao-ngay-23-va-25-thang-8\n",
            "- Thông báo nhận đơn phúc khảo HK2/21-22 bậc Đại học hệ chính quy , Link: http://ktdbcl.hcmus.edu.vn/index.php/thong-bao/571-thong-bao-nh-n-don-phuc-kh-o-hk2-21-22-b-c-d-i-h-c-h-chinh-quy\n",
            "- Thông báo nhận đơn phúc khảo HK1/21-22 các lớp CKH , Link: http://ktdbcl.hcmus.edu.vn/index.php/thong-bao/566-thong-bao-nh-n-don-phuc-kh-o-hk1-21-22-cac-l-p-ckh\n",
            "- lịch thi chi tiết HK3/21-22 bổ sung 2 môn PHY00001 và PHY00002 , Link: http://ktdbcl.hcmus.edu.vn/index.php/cong-tac-kh-o-thi/l-ch-thi-h-c-ky/585-l-ch-thi-chi-ti-t-hk3-21-22-b-sung-2-mon-phy00001-va-phy00002\n",
            "- Lịch thi HK3/21-22 các lớp 21CNS_CLC bổ sung (CẬP NHẬT 27/8) , Link: http://ktdbcl.hcmus.edu.vn/index.php/cong-tac-kh-o-thi/l-ch-thi-h-c-ky/580-l-ch-thi-hk3-21-22-cac-l-p-21cns-clc-b-sung\n",
            "- Lịch thi cuối kỳ (chi tiết) HK2/21-22 hệ Hoàn Chỉnh Đại Học , Link: http://ktdbcl.hcmus.edu.vn/index.php/cong-tac-kh-o-thi/l-ch-thi-h-c-ky/578-l-ch-thi-cu-i-ky-chi-ti-t-hk2-21-22-h-hoan-ch-nh-d-i-h-c\n",
            "- Lịch thi cuối kỳ (chi tiết) HK3/21-22 hệ Đại học Chính quy cơ sở Linh Trung (CẬP NHẬT 11/8) , Link: http://ktdbcl.hcmus.edu.vn/index.php/cong-tac-kh-o-thi/l-ch-thi-h-c-ky/576-l-ch-thi-cu-i-ky-chi-ti-t-hk3-21-22-h-d-i-h-c-chinh-quy-co-s-linh-trung\n",
            "- Lịch thi cuối kỳ (chi tiết) HK3/21-22 các lớp CLC khoa MT, DTVT, Sinh, CKH , Link: http://ktdbcl.hcmus.edu.vn/index.php/cong-tac-kh-o-thi/l-ch-thi-h-c-ky/575-l-ch-thi-cu-i-ky-chi-ti-t-hk3-21-22-cac-l-p-clc-khoa-mt-dtvt-sinh-ckh\n",
            "- Điểm hiệu chỉnh giữa kỳ HK3/21-22 lớp CLC , Link: http://ktdbcl.hcmus.edu.vn/index.php/cong-tac-kh-o-thi/k-t-qu-thi-h-c-ky/572-di-m-hi-u-ch-nh-gi-a-ky-hk3-21-22-l-p-clc\n",
            "- Kết quả thi giữa kỳ HK3/21-22 các lớp CLC, CKH, VP (CẬP NHẬT 22/7) , Link: http://ktdbcl.hcmus.edu.vn/index.php/cong-tac-kh-o-thi/k-t-qu-thi-h-c-ky/560-k-t-qu-thi-gi-a-ky-hk3-21-22-cac-l-p-clc-ckh-vp\n",
            "- Điểm tổng kết HK2/21-22 hệ đào tạo Từ xa , Link: http://ktdbcl.hcmus.edu.vn/index.php/cong-tac-kh-o-thi/k-t-qu-thi-h-c-ky/558-di-m-t-ng-k-t-hk2-21-22-h-dao-t-o-t-xa\n",
            "- Kết quả phúc khảo HK2/21-22 hệ ĐHCQ (CẬP NHẬT 24/8) , Link: http://ktdbcl.hcmus.edu.vn/index.php/cong-tac-kh-o-thi/k-t-qu-phuc-tra/582-k-t-qu-phuc-kh-o-hk2-21-22-h-dhcq\n",
            "- Kết quả phúc khảo HK2/21-22 hệ ĐTTX , Link: http://ktdbcl.hcmus.edu.vn/index.php/cong-tac-kh-o-thi/k-t-qu-phuc-tra/579-k-t-qu-phuc-kh-o-hk2-21-22-h-dttx\n",
            "- Kết quả phúc khảo HK1/21-22 các lớp 19 CKH (Bổ sung 1/8) , Link: http://ktdbcl.hcmus.edu.vn/index.php/cong-tac-kh-o-thi/k-t-qu-phuc-tra/577-k-t-qu-phuc-kh-o-hk1-21-22-cac-l-p-19-ckh-b-sung-1-8\n"
          ]
        }
      ]
    }
  ]
}