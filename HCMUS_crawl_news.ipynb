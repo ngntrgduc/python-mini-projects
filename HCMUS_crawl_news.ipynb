{
  "nbformat": 4,
  "nbformat_minor": 0,
  "metadata": {
    "colab": {
      "provenance": [],
      "authorship_tag": "ABX9TyNsuzhJtRTUxF6kOat5Qcyr",
      "include_colab_link": true
    },
    "kernelspec": {
      "name": "python3",
      "display_name": "Python 3"
    },
    "language_info": {
      "name": "python"
    }
  },
  "cells": [
    {
      "cell_type": "markdown",
      "metadata": {
        "id": "view-in-github",
        "colab_type": "text"
      },
      "source": [
        "<a href=\"https://colab.research.google.com/github/ngntrgduc/python-mini-projects/blob/master/HCMUS_crawl_news.ipynb\" target=\"_parent\"><img src=\"https://colab.research.google.com/assets/colab-badge.svg\" alt=\"Open In Colab\"/></a>"
      ]
    },
    {
      "cell_type": "code",
      "execution_count": 1,
      "metadata": {
        "id": "kzUUI_pFalJw"
      },
      "outputs": [],
      "source": [
        "from bs4 import BeautifulSoup as bs\n",
        "import requests\n",
        "import re\n",
        "import datetime"
      ]
    },
    {
      "cell_type": "code",
      "source": [
        "page = requests.get(\"https://www.hcmus.edu.vn/sinh-vien\")\n",
        "soup = bs(page.content, 'lxml')"
      ],
      "metadata": {
        "id": "CXStBvtnam2C"
      },
      "execution_count": 2,
      "outputs": []
    },
    {
      "cell_type": "code",
      "source": [
        "news = [i.text for i in soup.find_all(class_='mod-articles-category-title')]\n",
        "news_link = [i.attrs['href'] for i in soup.find_all(class_='mod-articles-category-title')]\n",
        "links = [''.join(url) for url in news_link]\n",
        "\n",
        "raw_dates = [i.text for i in soup.find_all(class_='mod-articles-category-date')]\n",
        "dates = [''.join(re.findall('([\\d-])', date)) for date in raw_dates]"
      ],
      "metadata": {
        "id": "KXVnzriubP4H"
      },
      "execution_count": 3,
      "outputs": []
    },
    {
      "cell_type": "code",
      "source": [
        "# for i in range(len(dates)):\n",
        "for i in range(10):\n",
        "    print(f'- {dates[i]}: {news[i]}, Link: https://www.hcmus.edu.vn{links[i]}')"
      ],
      "metadata": {
        "id": "KFmg9a75lLp7",
        "outputId": "28a5db95-9c9d-41f7-fd7b-56eacc697d96",
        "colab": {
          "base_uri": "https://localhost:8080/"
        }
      },
      "execution_count": 19,
      "outputs": [
        {
          "output_type": "stream",
          "name": "stdout",
          "text": [
            "- 06-02-2023: Thông báo Đăng ký học phần học kỳ 2 năm học 2022-2023 - hệ Đại học chính quy (update), Link: https://www.hcmus.edu.vn/component/content/article/186-phong-dao-tao/thong-bao-he-chinh-quy/dang-ky-hoc-phan/4846-thong-bao-dang-ky-hoc-phan-hoc-ky-2-nam-hoc-2022-2023-he-dai-hoc-chinh-quy-update?Itemid=437\n",
            "- 01-02-2023: Thời khóa biểu (thực hành) HK2/2022-2023, lớp 21HCB - Liên thông đại học, Link: https://www.hcmus.edu.vn/component/content/article/192-phong-dao-tao/thong-bao-lien-thong-dai-hoc/thoi-khoa-bieu_lt/4835-thoi-khoa-bieu-thuc-hanh-hk2-2022-2023-lop-21hcb-lien-thong-dai-hoc?Itemid=437\n",
            "- 19-01-2023: Thông báo nghỉ Tết Nguyên đán 2023, Link: https://www.hcmus.edu.vn/component/content/article/191-phong-dao-tao/thong-bao-he-chinh-quy/thong-bao-khac/4826-thong-bao-nghi-tet-nguyen-dan-2023?Itemid=437\n",
            "- 17-01-2023: Thông báo đăng ký học phần HK2/2022-2023 - Đại học chính quy, Link: https://www.hcmus.edu.vn/component/content/article/186-phong-dao-tao/thong-bao-he-chinh-quy/dang-ky-hoc-phan/4822-thong-bao-dang-ky-hoc-phan-hk2-2022-2023-dai-hoc-chinh-quy?Itemid=437\n",
            "- 13-01-2023: Thông báo Kế hoạch mở lớp học phần HK2/2022-2023 tại cơ sở 2, Link: https://www.hcmus.edu.vn/component/content/article/184-phong-dao-tao/thong-bao-he-chinh-quy/thoi-khoa-bieu/4817-thong-bao-ke-hoach-mo-lop-hoc-phan-hk2-2022-2023-tai-co-so-2?Itemid=437\n",
            "- 11-01-2023: Thông báo điều chỉnh mức thu học phí năm học 2022-2023 và thông tin số tiền chênh lệch học phí học kỳ 1 năm học 2022-2023 đối với sinh viên trình độ đại học hệ chính quy - chương trình liên thông đại học, Link: https://www.hcmus.edu.vn/component/content/article/194-phong-dao-tao/thong-bao-lien-thong-dai-hoc/hoc-phi_lt/4813-thong-bao-dieu-chinh-muc-thu-hoc-phi-nam-hoc-2022-2023-va-thong-tin-so-tien-chenh-lech-hoc-phi-hoc-ky-1-nam-hoc-2022-2023-doi-voi-sinh-vien-trinh-do-dai-hoc-he-chinh-quy-chuong-trinh-lien-thong-dai-hoc?Itemid=437\n",
            "- 11-01-2023: Thông báo điều chỉnh mức thu học phí năm học 2022-2023 và thông tin số tiền chênh lệch học phí học kỳ 1 năm học 2022-2023 đối với sinh viên trình độ cao đẳng và đại học hệ chính quy, chương trình đại trà, Link: https://www.hcmus.edu.vn/component/content/article/187-phong-dao-tao/thong-bao-he-chinh-quy/hoc-phi/4812-thong-bao-dieu-chinh-muc-thu-hoc-phi-nam-hoc-2022-2023-va-thong-tin-so-tien-chenh-lech-hoc-phi-hoc-ky-1-nam-hoc-2022-2023-doi-voi-sinh-vien-trinh-do-cao-dang-va-dai-hoc-he-chinh-quy-chuong-trinh-dai-tra?Itemid=437\n",
            "- 04-01-2023: Thông báo nộp học phí sinh viên cao đẳng hệ chính quy học kỳ 1 năm học 2022-2023, Link: https://www.hcmus.edu.vn/component/content/article/201-phong-dao-tao/thong-bao-he-cao-dang/hoc-phi_cd/4801-thong-bao-nop-hoc-phi-sinh-vien-cao-dang-he-chinh-quy-hoc-ky-1-nam-hoc-2022-2023?Itemid=437\n",
            "- 22-12-2022: Thông báo nghỉ Tết Dương lịch 2023, Link: https://www.hcmus.edu.vn/component/content/article/191-phong-dao-tao/thong-bao-he-chinh-quy/thong-bao-khac/4782-thong-bao-nghi-tet-duong-lich-2023?Itemid=437\n",
            "- 16-12-2022: Thời khóa biểu (lý thuyết) HK2/2022-2023, lớp 21HCB - Liên thông đại học, Link: https://www.hcmus.edu.vn/component/content/article/192-phong-dao-tao/thong-bao-lien-thong-dai-hoc/thoi-khoa-bieu_lt/4772-thoi-khoa-bieu-ly-thuyet-hk2-2022-2023-lop-21hcb-lien-thong-dai-hoc?Itemid=437\n"
          ]
        }
      ]
    },
    {
      "cell_type": "code",
      "source": [
        "ctkt = [i for i in soup.find_all(class_='feed-link')]\n",
        "thong_bao_ctkt = [''.join(re.sub(r'(\\t|\\n)', '', news.text)) for news in ctkt]\n",
        "ctkt_link = [''.join(re.findall('http.*\" ', str(news))) for news in ctkt]\n",
        "ctkt_link = [link[:-2] for link in ctkt_link] # remove unnecessary characters\n",
        "print('-----THÔNG BÁO CÔNG TÁC KHẢO THÍ-----')\n",
        "for i in range(len(thong_bao_ctkt)):\n",
        "    print('-', thong_bao_ctkt[i], ', Link: ' + ctkt_link[i])"
      ],
      "metadata": {
        "colab": {
          "base_uri": "https://localhost:8080/"
        },
        "id": "ggLVCoXE-8a-",
        "outputId": "135fdbe1-27b4-47a1-a418-07b80f0ed766"
      },
      "execution_count": 5,
      "outputs": [
        {
          "output_type": "stream",
          "name": "stdout",
          "text": [
            "-----THÔNG BÁO CÔNG TÁC KHẢO THÍ-----\n",
            "- Thông báo bổ sung lịch thi môn Nhập môn lập trình (lớp 22CTT4 và 22CTT6) , Link: http://ktdbcl.hcmus.edu.vn/index.php/thong-bao/662-thong-bao-b-sung-l-ch-thi-mon-nh-p-mon-l-p-trinh-l-p-22ctt4-va-22ctt6\n",
            "- Thông báo thay đổi phòng thi HK1/22-23 ngày 12/1 tại cs NVC , Link: http://ktdbcl.hcmus.edu.vn/index.php/thong-bao/661-thong-bao-thay-d-i-phong-thi-hk1-22-23-ngay-12-1-t-i-cs-nvc\n",
            "- Thông báo thay đổi phòng thi HK1/22-23 ngày 5/1 tại cs NVC , Link: http://ktdbcl.hcmus.edu.vn/index.php/thong-bao/660-thong-bao-thay-d-i-phong-thi-hk1-22-23-ngay-5-1-t-i-cs-nvc\n",
            "- Thông báo thay đổi phòng thi HK1/22-23 ngày 4/1 tại cs NVC , Link: http://ktdbcl.hcmus.edu.vn/index.php/thong-bao/658-thong-bao-thay-d-i-phong-thi-hk1-22-23-ngay-4-1-t-i-cs-nvc\n",
            "- Thông báo thay đổi phòng thi HK1/22-23 khoa Sinh k22 cơ sở NVC , Link: http://ktdbcl.hcmus.edu.vn/index.php/thong-bao/657-thong-bao-thay-d-i-phong-thi-hk1-22-23-khoa-sinh-k22-co-s-nvc\n",
            "- Lịch thi (chi tiết) cuối kỳ HK2/22-23 Hóa VP, CLC , Link: http://ktdbcl.hcmus.edu.vn/index.php/cong-tac-kh-o-thi/l-ch-thi-h-c-ky/654-l-ch-thi-chi-ti-t-cu-i-ky-hk2-22-23-hoa-vp-clc\n",
            "- Lịch thi (chi tiết) giữa kỳ HK2/22-23 Hóa VP, CLC, CKH , Link: http://ktdbcl.hcmus.edu.vn/index.php/cong-tac-kh-o-thi/l-ch-thi-h-c-ky/653-l-ch-thi-chi-ti-t-gi-a-ky-hk2-22-23-hoa-vp-clc-ckh\n",
            "- Lịch thi (chi tiết) cuối kỳ HK1/22-23 ĐHCQ khóa 2022 (CẬP NHẬT 3/2) , Link: http://ktdbcl.hcmus.edu.vn/index.php/cong-tac-kh-o-thi/l-ch-thi-h-c-ky/652-l-ch-thi-chi-ti-t-cu-i-ky-hk1-22-23-dhcq-khoa-2022\n",
            "- Lịch thi cuối kỳ (chi tiết) HK1/22-23 các lớp hoàn chỉnh đại học , Link: http://ktdbcl.hcmus.edu.vn/index.php/cong-tac-kh-o-thi/l-ch-thi-h-c-ky/650-l-ch-thi-cu-i-ky-chi-ti-t-hk1-22-23-cac-l-p-hoan-ch-nh-d-i-h-c\n",
            "- Lịch thi cuối kỳ sớm HK2/22-23 các lớp Hóa CLC, VP tại cơ sở NVC , Link: http://ktdbcl.hcmus.edu.vn/index.php/cong-tac-kh-o-thi/l-ch-thi-h-c-ky/649-l-ch-thi-cu-i-ky-s-m-hk2-22-23-cac-l-p-hoa-clc-vp-t-i-co-s-nvc\n",
            "- Kết quả thi HK1/22-23 hệ Hoàn chỉnh Đại học , Link: http://ktdbcl.hcmus.edu.vn/index.php/cong-tac-kh-o-thi/k-t-qu-thi-h-c-ky/663-k-t-qu-thi-hk1-22-23-h-hoan-ch-nh-d-i-h-c\n",
            "- Kết quả thi cuối kỳ HK1/22-23 hệ ĐTTX (CẬP NHẬT 16/12) , Link: http://ktdbcl.hcmus.edu.vn/index.php/cong-tac-kh-o-thi/k-t-qu-thi-h-c-ky/639-k-t-qu-thi-cu-i-ky-hk1-22-23-h-dttx\n",
            "- Kết quả thi giữa kỳ HK1/22-23 ĐHCQ (CẬP NHẬT 12/1) , Link: http://ktdbcl.hcmus.edu.vn/index.php/cong-tac-kh-o-thi/k-t-qu-thi-h-c-ky/629-k-t-qu-thi-gi-a-ky-hk1-22-23-dhcq\n",
            "- Kết quả phúc khảo HK1/22-23 hệ ĐTTX , Link: http://ktdbcl.hcmus.edu.vn/index.php/cong-tac-kh-o-thi/k-t-qu-phuc-tra/659-k-t-qu-phuc-kh-o-hk1-22-23-h-dttx\n",
            "- Kết quả phúc khảo HK2/21-22 bậc ĐH hệ Hoàn chỉnh , Link: http://ktdbcl.hcmus.edu.vn/index.php/cong-tac-kh-o-thi/k-t-qu-phuc-tra/607-k-t-qu-phuc-kh-o-hk2-21-22-b-c-dh-h-hoan-ch-nh\n",
            "- Kết quả phúc khảo HK3/21-22 hệ Chính quy , Link: http://ktdbcl.hcmus.edu.vn/index.php/cong-tac-kh-o-thi/k-t-qu-phuc-tra/600-k-t-qu-phuc-kh-o-hk3-21-22-h-chinh-quy\n"
          ]
        }
      ]
    }
  ]
}